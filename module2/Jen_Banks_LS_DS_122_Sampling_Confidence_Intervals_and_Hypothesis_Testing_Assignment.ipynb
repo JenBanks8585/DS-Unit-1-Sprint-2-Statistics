{
  "nbformat": 4,
  "nbformat_minor": 0,
  "metadata": {
    "colab": {
      "name": "Jen_Banks_LS_DS_122_Sampling_Confidence_Intervals_and_Hypothesis_Testing_Assignment.ipynb",
      "provenance": [],
      "collapsed_sections": [],
      "include_colab_link": true
    },
    "kernelspec": {
      "name": "python3",
      "display_name": "Python 3"
    }
  },
  "cells": [
    {
      "cell_type": "markdown",
      "metadata": {
        "id": "view-in-github",
        "colab_type": "text"
      },
      "source": [
        "<a href=\"https://colab.research.google.com/github/JenBanks8585/DS-Unit-1-Sprint-2-Statistics/blob/master/module2/Jen_Banks_LS_DS_122_Sampling_Confidence_Intervals_and_Hypothesis_Testing_Assignment.ipynb\" target=\"_parent\"><img src=\"https://colab.research.google.com/assets/colab-badge.svg\" alt=\"Open In Colab\"/></a>"
      ]
    },
    {
      "cell_type": "markdown",
      "metadata": {
        "id": "11OzdxWTM7UR",
        "colab_type": "text"
      },
      "source": [
        "## Assignment - Build a confidence interval\n",
        "\n",
        "A confidence interval refers to a neighborhood around some point estimate, the size of which is determined by the desired p-value. For instance, we might say that 52% of Americans prefer tacos to burritos, with a 95% confidence interval of +/- 5%.\n",
        "\n",
        "52% (0.52) is the point estimate, and +/- 5% (the interval $[0.47, 0.57]$) is the confidence interval. \"95% confidence\" means a p-value $\\leq 1 - 0.95 = 0.05$.\n",
        "\n",
        "In this case, the confidence interval includes $0.5$ - which is the natural null hypothesis (that half of Americans prefer tacos and half burritos, thus there is no clear favorite). So in this case, we could use the confidence interval to report that we've failed to reject the null hypothesis.\n",
        "\n",
        "But providing the full analysis with a confidence interval, including a graphical representation of it, can be a helpful and powerful way to tell your story. Done well, it is also more intuitive to a layperson than simply saying \"fail to reject the null hypothesis\" - it shows that in fact the data does *not* give a single clear result (the point estimate) but a whole range of possibilities.\n",
        "\n",
        "How is a confidence interval built, and how should it be interpreted? It does *not* mean that 95% of the data lies in that interval - instead, the frequentist interpretation is \"if we were to repeat this experiment 100 times, we would expect the average result to lie in this interval ~95 times.\"\n",
        "\n",
        "For a 95% confidence interval and a normal(-ish) distribution, you can simply remember that +/-2 standard deviations contains 95% of the probability mass, and so the 95% confidence interval based on a given sample is centered at the mean (point estimate) and has a range of +/- 2 (or technically 1.96) standard deviations.\n",
        "\n",
        "Different distributions/assumptions (90% confidence, 99% confidence) will require different math, but the overall process and interpretation (with a frequentist approach) will be the same.\n",
        "\n",
        "Your assignment - using the data from the prior module ([congressional voting records](https://archive.ics.uci.edu/ml/datasets/Congressional+Voting+Records)):\n",
        "\n",
        "\n",
        "### Confidence Intervals:\n",
        "1. Generate and numerically represent a confidence interval\n",
        "2. Graphically (with a plot) represent the confidence interval\n",
        "3. Interpret the confidence interval - what does it tell you about the data and its distribution?\n",
        "\n",
        "### Chi-squared tests:\n",
        "4. Take a dataset that we have used in the past in class that has **categorical** variables. Pick two of those categorical variables and run a chi-squared tests on that data\n",
        "  - By hand using Numpy\n",
        "  - In a single line using Scipy\n"
      ]
    },
    {
      "cell_type": "code",
      "metadata": {
        "id": "Ckcr4A4FM7cs",
        "colab_type": "code",
        "colab": {}
      },
      "source": [
        "from scipy.stats import ttest_ind,ttest_1samp,chi2,chi2_contingency\n",
        "import numpy as np\n",
        "import pandas as pd\n",
        "import matplotlib.pyplot as plt\n",
        "import scipy.stats as st\n",
        "import seaborn as sns\n"
      ],
      "execution_count": 0,
      "outputs": []
    },
    {
      "cell_type": "markdown",
      "metadata": {
        "id": "WiRx_RhwnmiU",
        "colab_type": "text"
      },
      "source": [
        "#Confidence Intervals:"
      ]
    },
    {
      "cell_type": "markdown",
      "metadata": {
        "id": "UfnkTXupg0VY",
        "colab_type": "text"
      },
      "source": [
        "1. Generate and numerically represent a confidence interval on ONE attribute"
      ]
    },
    {
      "cell_type": "code",
      "metadata": {
        "id": "-XzVKjCD6xUa",
        "colab_type": "code",
        "colab": {}
      },
      "source": [
        "# Preparing column headers for dataframe\n",
        "\n",
        "column_headers= ['party',\n",
        "                   'handicapped-infants', 'water-project-cost-sharing',\n",
        "                   'adoption-of-the-budget-resolution',\n",
        "                   'physician-fee-freeze',\n",
        "                   'el-salvador-aid',\n",
        "                   'religious-groups-in-schools',\n",
        "                   'anti-satellite-test-ban',\n",
        "                   'aid-to-nicaraguan-contras',\n",
        "                   'mx-missile',\n",
        "                   'immigration',\n",
        "                   'synfuels-corporation-cutback',\n",
        "                   'education-spending',\n",
        "                   'superfund-right-to-sue',\n",
        "                   'crime','duty-free-exports',\n",
        "                   'export-administration-act-south-africa']"
      ],
      "execution_count": 0,
      "outputs": []
    },
    {
      "cell_type": "code",
      "metadata": {
        "id": "3UOdY-U16Owj",
        "colab_type": "code",
        "outputId": "f4d2886e-de7a-4f48-9aab-44d15f3241d5",
        "colab": {
          "base_uri": "https://localhost:8080/",
          "height": 175
        }
      },
      "source": [
        "#Reading data\n",
        "\n",
        "df_vot=pd.read_csv('https://archive.ics.uci.edu/ml/machine-learning-databases/voting-records/house-votes-84.data', header=None, names= column_headers, na_values= '?')\n",
        "print(df_vot.shape)\n",
        "df_vot.head(2)"
      ],
      "execution_count": 65,
      "outputs": [
        {
          "output_type": "stream",
          "text": [
            "(435, 17)\n"
          ],
          "name": "stdout"
        },
        {
          "output_type": "execute_result",
          "data": {
            "text/html": [
              "<div>\n",
              "<style scoped>\n",
              "    .dataframe tbody tr th:only-of-type {\n",
              "        vertical-align: middle;\n",
              "    }\n",
              "\n",
              "    .dataframe tbody tr th {\n",
              "        vertical-align: top;\n",
              "    }\n",
              "\n",
              "    .dataframe thead th {\n",
              "        text-align: right;\n",
              "    }\n",
              "</style>\n",
              "<table border=\"1\" class=\"dataframe\">\n",
              "  <thead>\n",
              "    <tr style=\"text-align: right;\">\n",
              "      <th></th>\n",
              "      <th>party</th>\n",
              "      <th>handicapped-infants</th>\n",
              "      <th>water-project-cost-sharing</th>\n",
              "      <th>adoption-of-the-budget-resolution</th>\n",
              "      <th>physician-fee-freeze</th>\n",
              "      <th>el-salvador-aid</th>\n",
              "      <th>religious-groups-in-schools</th>\n",
              "      <th>anti-satellite-test-ban</th>\n",
              "      <th>aid-to-nicaraguan-contras</th>\n",
              "      <th>mx-missile</th>\n",
              "      <th>immigration</th>\n",
              "      <th>synfuels-corporation-cutback</th>\n",
              "      <th>education-spending</th>\n",
              "      <th>superfund-right-to-sue</th>\n",
              "      <th>crime</th>\n",
              "      <th>duty-free-exports</th>\n",
              "      <th>export-administration-act-south-africa</th>\n",
              "    </tr>\n",
              "  </thead>\n",
              "  <tbody>\n",
              "    <tr>\n",
              "      <th>0</th>\n",
              "      <td>republican</td>\n",
              "      <td>n</td>\n",
              "      <td>y</td>\n",
              "      <td>n</td>\n",
              "      <td>y</td>\n",
              "      <td>y</td>\n",
              "      <td>y</td>\n",
              "      <td>n</td>\n",
              "      <td>n</td>\n",
              "      <td>n</td>\n",
              "      <td>y</td>\n",
              "      <td>NaN</td>\n",
              "      <td>y</td>\n",
              "      <td>y</td>\n",
              "      <td>y</td>\n",
              "      <td>n</td>\n",
              "      <td>y</td>\n",
              "    </tr>\n",
              "    <tr>\n",
              "      <th>1</th>\n",
              "      <td>republican</td>\n",
              "      <td>n</td>\n",
              "      <td>y</td>\n",
              "      <td>n</td>\n",
              "      <td>y</td>\n",
              "      <td>y</td>\n",
              "      <td>y</td>\n",
              "      <td>n</td>\n",
              "      <td>n</td>\n",
              "      <td>n</td>\n",
              "      <td>n</td>\n",
              "      <td>n</td>\n",
              "      <td>y</td>\n",
              "      <td>y</td>\n",
              "      <td>y</td>\n",
              "      <td>n</td>\n",
              "      <td>NaN</td>\n",
              "    </tr>\n",
              "  </tbody>\n",
              "</table>\n",
              "</div>"
            ],
            "text/plain": [
              "        party  ... export-administration-act-south-africa\n",
              "0  republican  ...                                      y\n",
              "1  republican  ...                                    NaN\n",
              "\n",
              "[2 rows x 17 columns]"
            ]
          },
          "metadata": {
            "tags": []
          },
          "execution_count": 65
        }
      ]
    },
    {
      "cell_type": "code",
      "metadata": {
        "id": "87yshnbsnVHu",
        "colab_type": "code",
        "outputId": "28bf05b5-81ec-4533-fe98-5473d8e7db17",
        "colab": {
          "base_uri": "https://localhost:8080/",
          "height": 175
        }
      },
      "source": [
        "#recode data as numeric\n",
        "\n",
        "df_vot=df_vot.replace({'y':1, 'n':0})\n",
        "print(df_vot.shape)\n",
        "df_vot.head(2)"
      ],
      "execution_count": 66,
      "outputs": [
        {
          "output_type": "stream",
          "text": [
            "(435, 17)\n"
          ],
          "name": "stdout"
        },
        {
          "output_type": "execute_result",
          "data": {
            "text/html": [
              "<div>\n",
              "<style scoped>\n",
              "    .dataframe tbody tr th:only-of-type {\n",
              "        vertical-align: middle;\n",
              "    }\n",
              "\n",
              "    .dataframe tbody tr th {\n",
              "        vertical-align: top;\n",
              "    }\n",
              "\n",
              "    .dataframe thead th {\n",
              "        text-align: right;\n",
              "    }\n",
              "</style>\n",
              "<table border=\"1\" class=\"dataframe\">\n",
              "  <thead>\n",
              "    <tr style=\"text-align: right;\">\n",
              "      <th></th>\n",
              "      <th>party</th>\n",
              "      <th>handicapped-infants</th>\n",
              "      <th>water-project-cost-sharing</th>\n",
              "      <th>adoption-of-the-budget-resolution</th>\n",
              "      <th>physician-fee-freeze</th>\n",
              "      <th>el-salvador-aid</th>\n",
              "      <th>religious-groups-in-schools</th>\n",
              "      <th>anti-satellite-test-ban</th>\n",
              "      <th>aid-to-nicaraguan-contras</th>\n",
              "      <th>mx-missile</th>\n",
              "      <th>immigration</th>\n",
              "      <th>synfuels-corporation-cutback</th>\n",
              "      <th>education-spending</th>\n",
              "      <th>superfund-right-to-sue</th>\n",
              "      <th>crime</th>\n",
              "      <th>duty-free-exports</th>\n",
              "      <th>export-administration-act-south-africa</th>\n",
              "    </tr>\n",
              "  </thead>\n",
              "  <tbody>\n",
              "    <tr>\n",
              "      <th>0</th>\n",
              "      <td>republican</td>\n",
              "      <td>0.0</td>\n",
              "      <td>1.0</td>\n",
              "      <td>0.0</td>\n",
              "      <td>1.0</td>\n",
              "      <td>1.0</td>\n",
              "      <td>1.0</td>\n",
              "      <td>0.0</td>\n",
              "      <td>0.0</td>\n",
              "      <td>0.0</td>\n",
              "      <td>1.0</td>\n",
              "      <td>NaN</td>\n",
              "      <td>1.0</td>\n",
              "      <td>1.0</td>\n",
              "      <td>1.0</td>\n",
              "      <td>0.0</td>\n",
              "      <td>1.0</td>\n",
              "    </tr>\n",
              "    <tr>\n",
              "      <th>1</th>\n",
              "      <td>republican</td>\n",
              "      <td>0.0</td>\n",
              "      <td>1.0</td>\n",
              "      <td>0.0</td>\n",
              "      <td>1.0</td>\n",
              "      <td>1.0</td>\n",
              "      <td>1.0</td>\n",
              "      <td>0.0</td>\n",
              "      <td>0.0</td>\n",
              "      <td>0.0</td>\n",
              "      <td>0.0</td>\n",
              "      <td>0.0</td>\n",
              "      <td>1.0</td>\n",
              "      <td>1.0</td>\n",
              "      <td>1.0</td>\n",
              "      <td>0.0</td>\n",
              "      <td>NaN</td>\n",
              "    </tr>\n",
              "  </tbody>\n",
              "</table>\n",
              "</div>"
            ],
            "text/plain": [
              "        party  ...  export-administration-act-south-africa\n",
              "0  republican  ...                                     1.0\n",
              "1  republican  ...                                     NaN\n",
              "\n",
              "[2 rows x 17 columns]"
            ]
          },
          "metadata": {
            "tags": []
          },
          "execution_count": 66
        }
      ]
    },
    {
      "cell_type": "code",
      "metadata": {
        "id": "8VQntm7znVEk",
        "colab_type": "code",
        "outputId": "084011c7-2adb-4ff2-82c4-8c0133b5fad9",
        "colab": {
          "base_uri": "https://localhost:8080/",
          "height": 70
        }
      },
      "source": [
        "#reviewing the number of representatives in each party\n",
        "\n",
        "df_vot['party'].value_counts()"
      ],
      "execution_count": 67,
      "outputs": [
        {
          "output_type": "execute_result",
          "data": {
            "text/plain": [
              "democrat      267\n",
              "republican    168\n",
              "Name: party, dtype: int64"
            ]
          },
          "metadata": {
            "tags": []
          },
          "execution_count": 67
        }
      ]
    },
    {
      "cell_type": "code",
      "metadata": {
        "id": "BEYspJrKnU_9",
        "colab_type": "code",
        "outputId": "9d2aeadc-bd0c-4fdc-fa03-44e62092ae8f",
        "colab": {
          "base_uri": "https://localhost:8080/",
          "height": 141
        }
      },
      "source": [
        "#Creating a new dataframe for republicans\n",
        "#Also checking a particular republican attribute(crime)\n",
        "\n",
        "rep=df_vot[df_vot['party']=='republican'].dropna()\n",
        "print(len(rep))\n",
        "rep['immigration'].head()"
      ],
      "execution_count": 68,
      "outputs": [
        {
          "output_type": "stream",
          "text": [
            "108\n"
          ],
          "name": "stdout"
        },
        {
          "output_type": "execute_result",
          "data": {
            "text/plain": [
              "8     0.0\n",
              "28    0.0\n",
              "30    0.0\n",
              "33    0.0\n",
              "35    0.0\n",
              "Name: immigration, dtype: float64"
            ]
          },
          "metadata": {
            "tags": []
          },
          "execution_count": 68
        }
      ]
    },
    {
      "cell_type": "code",
      "metadata": {
        "id": "3_iE3ikY9ZA9",
        "colab_type": "code",
        "colab": {}
      },
      "source": [
        "# Defining the function that will calculate\n",
        "#   a. standard error \n",
        "#   b. margin of error\n",
        "#   c. confindence interval\n",
        "\n",
        "def confidence_interval(data, confidence =0.95):\n",
        "  data_array= np.array(data)                          # converting data to array\n",
        "  mean= np.mean(data)                                 # mean/x_bar\n",
        "  n=len(data)                                         # number count \n",
        "  stderr= np.std(data_array,ddof=1)/np.sqrt(n)        # standadr error\n",
        "  moe=stderr*st.t.ppf(((1-confidence)/2),n-1)         # margin of error\n",
        "  return( mean, mean - moe, mean + moe)               # mean, lower bound, upper bound\n"
      ],
      "execution_count": 0,
      "outputs": []
    },
    {
      "cell_type": "code",
      "metadata": {
        "id": "w5c2m8qZYZh8",
        "colab_type": "code",
        "outputId": "4dd20cfd-66d5-4319-8af7-08d58490dd39",
        "colab": {
          "base_uri": "https://localhost:8080/",
          "height": 34
        }
      },
      "source": [
        "#generating the mean, lower and upper bounds\n",
        "CI=confidence_interval(rep['immigration'])\n",
        "CI"
      ],
      "execution_count": 70,
      "outputs": [
        {
          "output_type": "execute_result",
          "data": {
            "text/plain": [
              "(0.5740740740740741, 0.6688388111692045, 0.4793093369789436)"
            ]
          },
          "metadata": {
            "tags": []
          },
          "execution_count": 70
        }
      ]
    },
    {
      "cell_type": "code",
      "metadata": {
        "id": "H_GzXviMZSv6",
        "colab_type": "code",
        "outputId": "69276911-a16a-47f0-dc7a-0972f9eb569b",
        "colab": {
          "base_uri": "https://localhost:8080/",
          "height": 281
        }
      },
      "source": [
        "#Plotting using sns kernel density\n",
        "\n",
        "def plot_confidence_interval(data, confidence= 0.95):\n",
        "  sns.kdeplot(rep['immigration'], shade=True)\n",
        "  plt.axvline(x=CI[1], color='red')\n",
        "  plt.axvline(x=CI[2], color='red')\n",
        "  plt.axvline(x=CI[0], color='k')\n",
        "\n",
        "  plt.title('Republicans on Immigration Bill')\n",
        "  plt.show()\n",
        "\n",
        "plot_confidence_interval(rep['immigration'], confidence=0.95)"
      ],
      "execution_count": 71,
      "outputs": [
        {
          "output_type": "display_data",
          "data": {
            "image/png": "[encoded data removed]",
            "text/plain": [
              "<Figure size 432x288 with 1 Axes>"
            ]
          },
          "metadata": {
            "tags": []
          }
        }
      ]
    },
    {
      "cell_type": "code",
      "metadata": {
        "id": "OqDxMeShMqfJ",
        "colab_type": "code",
        "colab": {
          "base_uri": "https://localhost:8080/",
          "height": 52
        },
        "outputId": "00d2c0e3-5a49-4e19-8f73-b78b82f9c6b8"
      },
      "source": [
        "# 95% confidence interval, determining t-statistic\n",
        "\n",
        "confidence= 0.95\n",
        "n=len(rep['immigration']) \n",
        "mean= np.mean(rep['immigration'])\n",
        "stderr= np.std(rep['immigration'],ddof=1)/np.sqrt(n)\n",
        "moe=stderr*st.t.ppf(((1-confidence)/2),n-1)\n",
        "\n",
        "\n",
        "t_stat =st.t.ppf(.975, dof)\n",
        "print(\"t Statistic:\", t_stat)\n",
        "CI = (mean-moe, mean+ moe)\n",
        "print(\"Confidence Interval\", CI)"
      ],
      "execution_count": 72,
      "outputs": [
        {
          "output_type": "stream",
          "text": [
            "t Statistic: 2.1199052992210112\n",
            "Confidence Interval (0.6688388111692045, 0.4793093369789436)\n"
          ],
          "name": "stdout"
        }
      ]
    },
    {
      "cell_type": "markdown",
      "metadata": {
        "id": "UiwsCbKpTwjf",
        "colab_type": "text"
      },
      "source": [
        "If a large number of samples is carried out, the means of these samples\n",
        "will fall within the confidence interval 95% of the time."
      ]
    },
    {
      "cell_type": "code",
      "metadata": {
        "id": "EwI3Qx0FOtTs",
        "colab_type": "code",
        "colab": {
          "base_uri": "https://localhost:8080/",
          "height": 34
        },
        "outputId": "b4c66ada-0f9e-45ca-f1f2-583473a9b9b0"
      },
      "source": [
        "#Running a 1-sample T-test for a value just outside the confidence interval\n",
        "\n",
        "ttest_1samp(rep['immigration'], .47)"
      ],
      "execution_count": 73,
      "outputs": [
        {
          "output_type": "execute_result",
          "data": {
            "text/plain": [
              "Ttest_1sampResult(statistic=2.177125374159849, pvalue=0.031668571472193145)"
            ]
          },
          "metadata": {
            "tags": []
          },
          "execution_count": 73
        }
      ]
    },
    {
      "cell_type": "code",
      "metadata": {
        "id": "JRQ8oqp6PjEE",
        "colab_type": "code",
        "colab": {
          "base_uri": "https://localhost:8080/",
          "height": 34
        },
        "outputId": "cd98297b-93df-4624-f95e-dfbaf74ccca2"
      },
      "source": [
        "#Running a 1-sample T-test for a value just inside the confidence interval\n",
        "\n",
        "ttest_1samp(rep['immigration'], .48)"
      ],
      "execution_count": 74,
      "outputs": [
        {
          "output_type": "execute_result",
          "data": {
            "text/plain": [
              "Ttest_1sampResult(statistic=1.9679353915893294, pvalue=0.05166302284118054)"
            ]
          },
          "metadata": {
            "tags": []
          },
          "execution_count": 74
        }
      ]
    },
    {
      "cell_type": "markdown",
      "metadata": {
        "id": "IjFJOOG2nVpy",
        "colab_type": "text"
      },
      "source": [
        "#Chi-squared tests:"
      ]
    },
    {
      "cell_type": "markdown",
      "metadata": {
        "id": "mMjcslCZB_Bn",
        "colab_type": "text"
      },
      "source": [
        "A. Running Chi Squared Test with Numpy"
      ]
    },
    {
      "cell_type": "code",
      "metadata": {
        "id": "7XPHqcLBBozm",
        "colab_type": "code",
        "outputId": "0b9148ea-0167-4856-cf5d-7f5957715ee7",
        "colab": {
          "base_uri": "https://localhost:8080/",
          "height": 197
        }
      },
      "source": [
        "# Using the Forest Data\n",
        "\n",
        "df=pd.read_csv('https://archive.ics.uci.edu/ml/machine-learning-databases/forest-fires/forestfires.csv')\n",
        "df.head()"
      ],
      "execution_count": 75,
      "outputs": [
        {
          "output_type": "execute_result",
          "data": {
            "text/html": [
              "<div>\n",
              "<style scoped>\n",
              "    .dataframe tbody tr th:only-of-type {\n",
              "        vertical-align: middle;\n",
              "    }\n",
              "\n",
              "    .dataframe tbody tr th {\n",
              "        vertical-align: top;\n",
              "    }\n",
              "\n",
              "    .dataframe thead th {\n",
              "        text-align: right;\n",
              "    }\n",
              "</style>\n",
              "<table border=\"1\" class=\"dataframe\">\n",
              "  <thead>\n",
              "    <tr style=\"text-align: right;\">\n",
              "      <th></th>\n",
              "      <th>X</th>\n",
              "      <th>Y</th>\n",
              "      <th>month</th>\n",
              "      <th>day</th>\n",
              "      <th>FFMC</th>\n",
              "      <th>DMC</th>\n",
              "      <th>DC</th>\n",
              "      <th>ISI</th>\n",
              "      <th>temp</th>\n",
              "      <th>RH</th>\n",
              "      <th>wind</th>\n",
              "      <th>rain</th>\n",
              "      <th>area</th>\n",
              "    </tr>\n",
              "  </thead>\n",
              "  <tbody>\n",
              "    <tr>\n",
              "      <th>0</th>\n",
              "      <td>7</td>\n",
              "      <td>5</td>\n",
              "      <td>mar</td>\n",
              "      <td>fri</td>\n",
              "      <td>86.2</td>\n",
              "      <td>26.2</td>\n",
              "      <td>94.3</td>\n",
              "      <td>5.1</td>\n",
              "      <td>8.2</td>\n",
              "      <td>51</td>\n",
              "      <td>6.7</td>\n",
              "      <td>0.0</td>\n",
              "      <td>0.0</td>\n",
              "    </tr>\n",
              "    <tr>\n",
              "      <th>1</th>\n",
              "      <td>7</td>\n",
              "      <td>4</td>\n",
              "      <td>oct</td>\n",
              "      <td>tue</td>\n",
              "      <td>90.6</td>\n",
              "      <td>35.4</td>\n",
              "      <td>669.1</td>\n",
              "      <td>6.7</td>\n",
              "      <td>18.0</td>\n",
              "      <td>33</td>\n",
              "      <td>0.9</td>\n",
              "      <td>0.0</td>\n",
              "      <td>0.0</td>\n",
              "    </tr>\n",
              "    <tr>\n",
              "      <th>2</th>\n",
              "      <td>7</td>\n",
              "      <td>4</td>\n",
              "      <td>oct</td>\n",
              "      <td>sat</td>\n",
              "      <td>90.6</td>\n",
              "      <td>43.7</td>\n",
              "      <td>686.9</td>\n",
              "      <td>6.7</td>\n",
              "      <td>14.6</td>\n",
              "      <td>33</td>\n",
              "      <td>1.3</td>\n",
              "      <td>0.0</td>\n",
              "      <td>0.0</td>\n",
              "    </tr>\n",
              "    <tr>\n",
              "      <th>3</th>\n",
              "      <td>8</td>\n",
              "      <td>6</td>\n",
              "      <td>mar</td>\n",
              "      <td>fri</td>\n",
              "      <td>91.7</td>\n",
              "      <td>33.3</td>\n",
              "      <td>77.5</td>\n",
              "      <td>9.0</td>\n",
              "      <td>8.3</td>\n",
              "      <td>97</td>\n",
              "      <td>4.0</td>\n",
              "      <td>0.2</td>\n",
              "      <td>0.0</td>\n",
              "    </tr>\n",
              "    <tr>\n",
              "      <th>4</th>\n",
              "      <td>8</td>\n",
              "      <td>6</td>\n",
              "      <td>mar</td>\n",
              "      <td>sun</td>\n",
              "      <td>89.3</td>\n",
              "      <td>51.3</td>\n",
              "      <td>102.2</td>\n",
              "      <td>9.6</td>\n",
              "      <td>11.4</td>\n",
              "      <td>99</td>\n",
              "      <td>1.8</td>\n",
              "      <td>0.0</td>\n",
              "      <td>0.0</td>\n",
              "    </tr>\n",
              "  </tbody>\n",
              "</table>\n",
              "</div>"
            ],
            "text/plain": [
              "   X  Y month  day  FFMC   DMC     DC  ISI  temp  RH  wind  rain  area\n",
              "0  7  5   mar  fri  86.2  26.2   94.3  5.1   8.2  51   6.7   0.0   0.0\n",
              "1  7  4   oct  tue  90.6  35.4  669.1  6.7  18.0  33   0.9   0.0   0.0\n",
              "2  7  4   oct  sat  90.6  43.7  686.9  6.7  14.6  33   1.3   0.0   0.0\n",
              "3  8  6   mar  fri  91.7  33.3   77.5  9.0   8.3  97   4.0   0.2   0.0\n",
              "4  8  6   mar  sun  89.3  51.3  102.2  9.6  11.4  99   1.8   0.0   0.0"
            ]
          },
          "metadata": {
            "tags": []
          },
          "execution_count": 75
        }
      ]
    },
    {
      "cell_type": "code",
      "metadata": {
        "id": "F3Q7ySzkBowg",
        "colab_type": "code",
        "colab": {}
      },
      "source": [
        "# Working of dependence/independence between FFMC and ISI\n",
        "# Defining the variables\n"
      ],
      "execution_count": 0,
      "outputs": []
    },
    {
      "cell_type": "markdown",
      "metadata": {
        "id": "X20tLQbNFq2D",
        "colab_type": "text"
      },
      "source": [
        "***Fine Fuel Moisture Code***\n",
        "The Fine Fuel Moisture Code (FFMC) is a numeric rating of the moisture content of litter and other cured fine fuels. This code is an indicator of the relative ease of ignition and the flammability of fine fuel.\n",
        "\n",
        "***Initial Spread Index***\n",
        "The Initial Spread Index (ISI) is a numeric rating of the expected rate of fire spread. It combines the effects of wind and the FFMC on rate of spread without the influence of variable quantities of fuel.\n",
        "\n",
        "***Drought Code***\n",
        "The Drought Code (DC) is a numeric rating of the average moisture content of deep, compact organic layers. This code is a useful indicator of seasonal drought effects on forest fuels and the amount of smoldering in deep duff layers and large logs.\n",
        "\n",
        "source: https://cwfis.cfs.nrcan.gc.ca/background/summary/fwi"
      ]
    },
    {
      "cell_type": "code",
      "metadata": {
        "id": "hXlEk6EoBoty",
        "colab_type": "code",
        "outputId": "be24b250-443d-41e9-def3-683cfa58fc76",
        "colab": {
          "base_uri": "https://localhost:8080/",
          "height": 197
        }
      },
      "source": [
        "# Converting Drought Code (DC) into categorical \n",
        "\n",
        "cut_point_DC=(0,200,400, 600, 800, 1000)\n",
        "DC_labels= ['<200', '200-400', '400-600', '600-800', '>800']\n",
        "df['DC_categories']= pd.cut(df['DC'],cut_point_DC, labels=DC_labels)\n",
        "df.head()"
      ],
      "execution_count": 76,
      "outputs": [
        {
          "output_type": "execute_result",
          "data": {
            "text/html": [
              "<div>\n",
              "<style scoped>\n",
              "    .dataframe tbody tr th:only-of-type {\n",
              "        vertical-align: middle;\n",
              "    }\n",
              "\n",
              "    .dataframe tbody tr th {\n",
              "        vertical-align: top;\n",
              "    }\n",
              "\n",
              "    .dataframe thead th {\n",
              "        text-align: right;\n",
              "    }\n",
              "</style>\n",
              "<table border=\"1\" class=\"dataframe\">\n",
              "  <thead>\n",
              "    <tr style=\"text-align: right;\">\n",
              "      <th></th>\n",
              "      <th>X</th>\n",
              "      <th>Y</th>\n",
              "      <th>month</th>\n",
              "      <th>day</th>\n",
              "      <th>FFMC</th>\n",
              "      <th>DMC</th>\n",
              "      <th>DC</th>\n",
              "      <th>ISI</th>\n",
              "      <th>temp</th>\n",
              "      <th>RH</th>\n",
              "      <th>wind</th>\n",
              "      <th>rain</th>\n",
              "      <th>area</th>\n",
              "      <th>DC_categories</th>\n",
              "    </tr>\n",
              "  </thead>\n",
              "  <tbody>\n",
              "    <tr>\n",
              "      <th>0</th>\n",
              "      <td>7</td>\n",
              "      <td>5</td>\n",
              "      <td>mar</td>\n",
              "      <td>fri</td>\n",
              "      <td>86.2</td>\n",
              "      <td>26.2</td>\n",
              "      <td>94.3</td>\n",
              "      <td>5.1</td>\n",
              "      <td>8.2</td>\n",
              "      <td>51</td>\n",
              "      <td>6.7</td>\n",
              "      <td>0.0</td>\n",
              "      <td>0.0</td>\n",
              "      <td>&lt;200</td>\n",
              "    </tr>\n",
              "    <tr>\n",
              "      <th>1</th>\n",
              "      <td>7</td>\n",
              "      <td>4</td>\n",
              "      <td>oct</td>\n",
              "      <td>tue</td>\n",
              "      <td>90.6</td>\n",
              "      <td>35.4</td>\n",
              "      <td>669.1</td>\n",
              "      <td>6.7</td>\n",
              "      <td>18.0</td>\n",
              "      <td>33</td>\n",
              "      <td>0.9</td>\n",
              "      <td>0.0</td>\n",
              "      <td>0.0</td>\n",
              "      <td>600-800</td>\n",
              "    </tr>\n",
              "    <tr>\n",
              "      <th>2</th>\n",
              "      <td>7</td>\n",
              "      <td>4</td>\n",
              "      <td>oct</td>\n",
              "      <td>sat</td>\n",
              "      <td>90.6</td>\n",
              "      <td>43.7</td>\n",
              "      <td>686.9</td>\n",
              "      <td>6.7</td>\n",
              "      <td>14.6</td>\n",
              "      <td>33</td>\n",
              "      <td>1.3</td>\n",
              "      <td>0.0</td>\n",
              "      <td>0.0</td>\n",
              "      <td>600-800</td>\n",
              "    </tr>\n",
              "    <tr>\n",
              "      <th>3</th>\n",
              "      <td>8</td>\n",
              "      <td>6</td>\n",
              "      <td>mar</td>\n",
              "      <td>fri</td>\n",
              "      <td>91.7</td>\n",
              "      <td>33.3</td>\n",
              "      <td>77.5</td>\n",
              "      <td>9.0</td>\n",
              "      <td>8.3</td>\n",
              "      <td>97</td>\n",
              "      <td>4.0</td>\n",
              "      <td>0.2</td>\n",
              "      <td>0.0</td>\n",
              "      <td>&lt;200</td>\n",
              "    </tr>\n",
              "    <tr>\n",
              "      <th>4</th>\n",
              "      <td>8</td>\n",
              "      <td>6</td>\n",
              "      <td>mar</td>\n",
              "      <td>sun</td>\n",
              "      <td>89.3</td>\n",
              "      <td>51.3</td>\n",
              "      <td>102.2</td>\n",
              "      <td>9.6</td>\n",
              "      <td>11.4</td>\n",
              "      <td>99</td>\n",
              "      <td>1.8</td>\n",
              "      <td>0.0</td>\n",
              "      <td>0.0</td>\n",
              "      <td>&lt;200</td>\n",
              "    </tr>\n",
              "  </tbody>\n",
              "</table>\n",
              "</div>"
            ],
            "text/plain": [
              "   X  Y month  day  FFMC   DMC  ...  temp  RH  wind  rain  area  DC_categories\n",
              "0  7  5   mar  fri  86.2  26.2  ...   8.2  51   6.7   0.0   0.0           <200\n",
              "1  7  4   oct  tue  90.6  35.4  ...  18.0  33   0.9   0.0   0.0        600-800\n",
              "2  7  4   oct  sat  90.6  43.7  ...  14.6  33   1.3   0.0   0.0        600-800\n",
              "3  8  6   mar  fri  91.7  33.3  ...   8.3  97   4.0   0.2   0.0           <200\n",
              "4  8  6   mar  sun  89.3  51.3  ...  11.4  99   1.8   0.0   0.0           <200\n",
              "\n",
              "[5 rows x 14 columns]"
            ]
          },
          "metadata": {
            "tags": []
          },
          "execution_count": 76
        }
      ]
    },
    {
      "cell_type": "code",
      "metadata": {
        "id": "CRO8loi8BolT",
        "colab_type": "code",
        "outputId": "3d5f0e7b-10b9-4c3c-e8cd-8e558995e5a2",
        "colab": {
          "base_uri": "https://localhost:8080/",
          "height": 123
        }
      },
      "source": [
        "#Checking counts for each category\n",
        "\n",
        "df['DC_categories'].value_counts()"
      ],
      "execution_count": 77,
      "outputs": [
        {
          "output_type": "execute_result",
          "data": {
            "text/plain": [
              "600-800    310\n",
              "<200        89\n",
              "400-600     62\n",
              "200-400     32\n",
              ">800        24\n",
              "Name: DC_categories, dtype: int64"
            ]
          },
          "metadata": {
            "tags": []
          },
          "execution_count": 77
        }
      ]
    },
    {
      "cell_type": "code",
      "metadata": {
        "id": "VI_HifliKXo-",
        "colab_type": "code",
        "outputId": "ead79e92-d965-4275-9adf-b756922c714a",
        "colab": {
          "base_uri": "https://localhost:8080/",
          "height": 197
        }
      },
      "source": [
        "# Converting Initial Spread Index (ISI) into categorical \n",
        "\n",
        "cut_point_ISI=(0,5,10, 15, 20, 100)\n",
        "ISI_labels= ['0-5', '5-10', '10-15', '15-20', '20+']\n",
        "df['ISI_categories']= pd.cut(df['ISI'],cut_point_ISI, labels=ISI_labels)\n",
        "df.head()"
      ],
      "execution_count": 78,
      "outputs": [
        {
          "output_type": "execute_result",
          "data": {
            "text/html": [
              "<div>\n",
              "<style scoped>\n",
              "    .dataframe tbody tr th:only-of-type {\n",
              "        vertical-align: middle;\n",
              "    }\n",
              "\n",
              "    .dataframe tbody tr th {\n",
              "        vertical-align: top;\n",
              "    }\n",
              "\n",
              "    .dataframe thead th {\n",
              "        text-align: right;\n",
              "    }\n",
              "</style>\n",
              "<table border=\"1\" class=\"dataframe\">\n",
              "  <thead>\n",
              "    <tr style=\"text-align: right;\">\n",
              "      <th></th>\n",
              "      <th>X</th>\n",
              "      <th>Y</th>\n",
              "      <th>month</th>\n",
              "      <th>day</th>\n",
              "      <th>FFMC</th>\n",
              "      <th>DMC</th>\n",
              "      <th>DC</th>\n",
              "      <th>ISI</th>\n",
              "      <th>temp</th>\n",
              "      <th>RH</th>\n",
              "      <th>wind</th>\n",
              "      <th>rain</th>\n",
              "      <th>area</th>\n",
              "      <th>DC_categories</th>\n",
              "      <th>ISI_categories</th>\n",
              "    </tr>\n",
              "  </thead>\n",
              "  <tbody>\n",
              "    <tr>\n",
              "      <th>0</th>\n",
              "      <td>7</td>\n",
              "      <td>5</td>\n",
              "      <td>mar</td>\n",
              "      <td>fri</td>\n",
              "      <td>86.2</td>\n",
              "      <td>26.2</td>\n",
              "      <td>94.3</td>\n",
              "      <td>5.1</td>\n",
              "      <td>8.2</td>\n",
              "      <td>51</td>\n",
              "      <td>6.7</td>\n",
              "      <td>0.0</td>\n",
              "      <td>0.0</td>\n",
              "      <td>&lt;200</td>\n",
              "      <td>5-10</td>\n",
              "    </tr>\n",
              "    <tr>\n",
              "      <th>1</th>\n",
              "      <td>7</td>\n",
              "      <td>4</td>\n",
              "      <td>oct</td>\n",
              "      <td>tue</td>\n",
              "      <td>90.6</td>\n",
              "      <td>35.4</td>\n",
              "      <td>669.1</td>\n",
              "      <td>6.7</td>\n",
              "      <td>18.0</td>\n",
              "      <td>33</td>\n",
              "      <td>0.9</td>\n",
              "      <td>0.0</td>\n",
              "      <td>0.0</td>\n",
              "      <td>600-800</td>\n",
              "      <td>5-10</td>\n",
              "    </tr>\n",
              "    <tr>\n",
              "      <th>2</th>\n",
              "      <td>7</td>\n",
              "      <td>4</td>\n",
              "      <td>oct</td>\n",
              "      <td>sat</td>\n",
              "      <td>90.6</td>\n",
              "      <td>43.7</td>\n",
              "      <td>686.9</td>\n",
              "      <td>6.7</td>\n",
              "      <td>14.6</td>\n",
              "      <td>33</td>\n",
              "      <td>1.3</td>\n",
              "      <td>0.0</td>\n",
              "      <td>0.0</td>\n",
              "      <td>600-800</td>\n",
              "      <td>5-10</td>\n",
              "    </tr>\n",
              "    <tr>\n",
              "      <th>3</th>\n",
              "      <td>8</td>\n",
              "      <td>6</td>\n",
              "      <td>mar</td>\n",
              "      <td>fri</td>\n",
              "      <td>91.7</td>\n",
              "      <td>33.3</td>\n",
              "      <td>77.5</td>\n",
              "      <td>9.0</td>\n",
              "      <td>8.3</td>\n",
              "      <td>97</td>\n",
              "      <td>4.0</td>\n",
              "      <td>0.2</td>\n",
              "      <td>0.0</td>\n",
              "      <td>&lt;200</td>\n",
              "      <td>5-10</td>\n",
              "    </tr>\n",
              "    <tr>\n",
              "      <th>4</th>\n",
              "      <td>8</td>\n",
              "      <td>6</td>\n",
              "      <td>mar</td>\n",
              "      <td>sun</td>\n",
              "      <td>89.3</td>\n",
              "      <td>51.3</td>\n",
              "      <td>102.2</td>\n",
              "      <td>9.6</td>\n",
              "      <td>11.4</td>\n",
              "      <td>99</td>\n",
              "      <td>1.8</td>\n",
              "      <td>0.0</td>\n",
              "      <td>0.0</td>\n",
              "      <td>&lt;200</td>\n",
              "      <td>5-10</td>\n",
              "    </tr>\n",
              "  </tbody>\n",
              "</table>\n",
              "</div>"
            ],
            "text/plain": [
              "   X  Y month  day  FFMC  ...  wind  rain  area  DC_categories  ISI_categories\n",
              "0  7  5   mar  fri  86.2  ...   6.7   0.0   0.0           <200            5-10\n",
              "1  7  4   oct  tue  90.6  ...   0.9   0.0   0.0        600-800            5-10\n",
              "2  7  4   oct  sat  90.6  ...   1.3   0.0   0.0        600-800            5-10\n",
              "3  8  6   mar  fri  91.7  ...   4.0   0.2   0.0           <200            5-10\n",
              "4  8  6   mar  sun  89.3  ...   1.8   0.0   0.0           <200            5-10\n",
              "\n",
              "[5 rows x 15 columns]"
            ]
          },
          "metadata": {
            "tags": []
          },
          "execution_count": 78
        }
      ]
    },
    {
      "cell_type": "code",
      "metadata": {
        "id": "HDNk6QHgBocI",
        "colab_type": "code",
        "outputId": "6ca47a5d-cdfb-49e8-8faa-49d6a3e2c128",
        "colab": {
          "base_uri": "https://localhost:8080/",
          "height": 123
        }
      },
      "source": [
        "#Checking counts for each category \n",
        "\n",
        "df['ISI_categories'].value_counts()"
      ],
      "execution_count": 79,
      "outputs": [
        {
          "output_type": "execute_result",
          "data": {
            "text/plain": [
              "5-10     292\n",
              "10-15    112\n",
              "0-5       69\n",
              "15-20     35\n",
              "20+        8\n",
              "Name: ISI_categories, dtype: int64"
            ]
          },
          "metadata": {
            "tags": []
          },
          "execution_count": 79
        }
      ]
    },
    {
      "cell_type": "code",
      "metadata": {
        "id": "qzdT7sgANBsc",
        "colab_type": "code",
        "outputId": "0a812694-4f5f-47be-8548-66046f94b07b",
        "colab": {
          "base_uri": "https://localhost:8080/",
          "height": 257
        }
      },
      "source": [
        "# Creating a cross tabulation between DC and ISI\n",
        "\n",
        "DC_ISI_crosstab= pd.crosstab(df['DC_categories'], df['ISI_categories'], margins = True)\n",
        "DC_ISI_crosstab"
      ],
      "execution_count": 80,
      "outputs": [
        {
          "output_type": "execute_result",
          "data": {
            "text/html": [
              "<div>\n",
              "<style scoped>\n",
              "    .dataframe tbody tr th:only-of-type {\n",
              "        vertical-align: middle;\n",
              "    }\n",
              "\n",
              "    .dataframe tbody tr th {\n",
              "        vertical-align: top;\n",
              "    }\n",
              "\n",
              "    .dataframe thead th {\n",
              "        text-align: right;\n",
              "    }\n",
              "</style>\n",
              "<table border=\"1\" class=\"dataframe\">\n",
              "  <thead>\n",
              "    <tr style=\"text-align: right;\">\n",
              "      <th>ISI_categories</th>\n",
              "      <th>0-5</th>\n",
              "      <th>5-10</th>\n",
              "      <th>10-15</th>\n",
              "      <th>15-20</th>\n",
              "      <th>20+</th>\n",
              "      <th>All</th>\n",
              "    </tr>\n",
              "    <tr>\n",
              "      <th>DC_categories</th>\n",
              "      <th></th>\n",
              "      <th></th>\n",
              "      <th></th>\n",
              "      <th></th>\n",
              "      <th></th>\n",
              "      <th></th>\n",
              "    </tr>\n",
              "  </thead>\n",
              "  <tbody>\n",
              "    <tr>\n",
              "      <th>&lt;200</th>\n",
              "      <td>39</td>\n",
              "      <td>41</td>\n",
              "      <td>7</td>\n",
              "      <td>0</td>\n",
              "      <td>1</td>\n",
              "      <td>88</td>\n",
              "    </tr>\n",
              "    <tr>\n",
              "      <th>200-400</th>\n",
              "      <td>12</td>\n",
              "      <td>14</td>\n",
              "      <td>4</td>\n",
              "      <td>2</td>\n",
              "      <td>0</td>\n",
              "      <td>32</td>\n",
              "    </tr>\n",
              "    <tr>\n",
              "      <th>400-600</th>\n",
              "      <td>0</td>\n",
              "      <td>24</td>\n",
              "      <td>29</td>\n",
              "      <td>4</td>\n",
              "      <td>5</td>\n",
              "      <td>62</td>\n",
              "    </tr>\n",
              "    <tr>\n",
              "      <th>600-800</th>\n",
              "      <td>17</td>\n",
              "      <td>193</td>\n",
              "      <td>69</td>\n",
              "      <td>29</td>\n",
              "      <td>2</td>\n",
              "      <td>310</td>\n",
              "    </tr>\n",
              "    <tr>\n",
              "      <th>&gt;800</th>\n",
              "      <td>1</td>\n",
              "      <td>20</td>\n",
              "      <td>3</td>\n",
              "      <td>0</td>\n",
              "      <td>0</td>\n",
              "      <td>24</td>\n",
              "    </tr>\n",
              "    <tr>\n",
              "      <th>All</th>\n",
              "      <td>69</td>\n",
              "      <td>292</td>\n",
              "      <td>112</td>\n",
              "      <td>35</td>\n",
              "      <td>8</td>\n",
              "      <td>516</td>\n",
              "    </tr>\n",
              "  </tbody>\n",
              "</table>\n",
              "</div>"
            ],
            "text/plain": [
              "ISI_categories  0-5  5-10  10-15  15-20  20+  All\n",
              "DC_categories                                    \n",
              "<200             39    41      7      0    1   88\n",
              "200-400          12    14      4      2    0   32\n",
              "400-600           0    24     29      4    5   62\n",
              "600-800          17   193     69     29    2  310\n",
              ">800              1    20      3      0    0   24\n",
              "All              69   292    112     35    8  516"
            ]
          },
          "metadata": {
            "tags": []
          },
          "execution_count": 80
        }
      ]
    },
    {
      "cell_type": "code",
      "metadata": {
        "id": "zN8Ry38pQWjQ",
        "colab_type": "code",
        "outputId": "00ae88f1-8d38-4f32-f0be-4c15cb218657",
        "colab": {
          "base_uri": "https://localhost:8080/",
          "height": 227
        }
      },
      "source": [
        "# Creating a cross tabulation between DC and ISI, without margins\n",
        "\n",
        "DC_ISI_crosstab_no_margin= pd.crosstab(df['DC_categories'], df['ISI_categories'])\n",
        "DC_ISI_crosstab_no_margin"
      ],
      "execution_count": 81,
      "outputs": [
        {
          "output_type": "execute_result",
          "data": {
            "text/html": [
              "<div>\n",
              "<style scoped>\n",
              "    .dataframe tbody tr th:only-of-type {\n",
              "        vertical-align: middle;\n",
              "    }\n",
              "\n",
              "    .dataframe tbody tr th {\n",
              "        vertical-align: top;\n",
              "    }\n",
              "\n",
              "    .dataframe thead th {\n",
              "        text-align: right;\n",
              "    }\n",
              "</style>\n",
              "<table border=\"1\" class=\"dataframe\">\n",
              "  <thead>\n",
              "    <tr style=\"text-align: right;\">\n",
              "      <th>ISI_categories</th>\n",
              "      <th>0-5</th>\n",
              "      <th>5-10</th>\n",
              "      <th>10-15</th>\n",
              "      <th>15-20</th>\n",
              "      <th>20+</th>\n",
              "    </tr>\n",
              "    <tr>\n",
              "      <th>DC_categories</th>\n",
              "      <th></th>\n",
              "      <th></th>\n",
              "      <th></th>\n",
              "      <th></th>\n",
              "      <th></th>\n",
              "    </tr>\n",
              "  </thead>\n",
              "  <tbody>\n",
              "    <tr>\n",
              "      <th>&lt;200</th>\n",
              "      <td>39</td>\n",
              "      <td>41</td>\n",
              "      <td>7</td>\n",
              "      <td>0</td>\n",
              "      <td>1</td>\n",
              "    </tr>\n",
              "    <tr>\n",
              "      <th>200-400</th>\n",
              "      <td>12</td>\n",
              "      <td>14</td>\n",
              "      <td>4</td>\n",
              "      <td>2</td>\n",
              "      <td>0</td>\n",
              "    </tr>\n",
              "    <tr>\n",
              "      <th>400-600</th>\n",
              "      <td>0</td>\n",
              "      <td>24</td>\n",
              "      <td>29</td>\n",
              "      <td>4</td>\n",
              "      <td>5</td>\n",
              "    </tr>\n",
              "    <tr>\n",
              "      <th>600-800</th>\n",
              "      <td>17</td>\n",
              "      <td>193</td>\n",
              "      <td>69</td>\n",
              "      <td>29</td>\n",
              "      <td>2</td>\n",
              "    </tr>\n",
              "    <tr>\n",
              "      <th>&gt;800</th>\n",
              "      <td>1</td>\n",
              "      <td>20</td>\n",
              "      <td>3</td>\n",
              "      <td>0</td>\n",
              "      <td>0</td>\n",
              "    </tr>\n",
              "  </tbody>\n",
              "</table>\n",
              "</div>"
            ],
            "text/plain": [
              "ISI_categories  0-5  5-10  10-15  15-20  20+\n",
              "DC_categories                               \n",
              "<200             39    41      7      0    1\n",
              "200-400          12    14      4      2    0\n",
              "400-600           0    24     29      4    5\n",
              "600-800          17   193     69     29    2\n",
              ">800              1    20      3      0    0"
            ]
          },
          "metadata": {
            "tags": []
          },
          "execution_count": 81
        }
      ]
    },
    {
      "cell_type": "code",
      "metadata": {
        "id": "jjVpoNsjQ-Ik",
        "colab_type": "code",
        "outputId": "9ead9cd8-ecac-48db-d145-785afbd99948",
        "colab": {
          "base_uri": "https://localhost:8080/",
          "height": 105
        }
      },
      "source": [
        "#Grabbing row counts\n",
        "\n",
        "DC_200count= DC_ISI_crosstab.iloc[0][0:5].values\n",
        "DC_200_400count= DC_ISI_crosstab.iloc[1][0:5].values\n",
        "DC_400_600count= DC_ISI_crosstab.iloc[2][0:5].values\n",
        "DC_600_800count= DC_ISI_crosstab.iloc[3][0:5].values\n",
        "DC_800count= DC_ISI_crosstab.iloc[4][0:5].values\n",
        "print(DC_200count)\n",
        "print(DC_200_400count)\n",
        "print(DC_400_600count)\n",
        "print(DC_600_800count)\n",
        "print(DC_800count)"
      ],
      "execution_count": 82,
      "outputs": [
        {
          "output_type": "stream",
          "text": [
            "[39 41  7  0  1]\n",
            "[12 14  4  2  0]\n",
            "[ 0 24 29  4  5]\n",
            "[ 17 193  69  29   2]\n",
            "[ 1 20  3  0  0]\n"
          ],
          "name": "stdout"
        }
      ]
    },
    {
      "cell_type": "code",
      "metadata": {
        "id": "Roga2fUTdvgl",
        "colab_type": "code",
        "outputId": "eecb2609-35bc-41ae-941d-a2fad854ba06",
        "colab": {
          "base_uri": "https://localhost:8080/",
          "height": 475
        }
      },
      "source": [
        "#Plotting bar charts for indices\n",
        "\n",
        "plt.figure(figsize=(10,7))\n",
        "\n",
        "p1= plt.bar(ISI_labels, DC_200count, 0.55, color='r')\n",
        "p2= plt.bar(ISI_labels, DC_200_400count, 0.55, color='g', bottom = DC_200count)\n",
        "p3= plt.bar(ISI_labels, DC_400_600count, 0.55, color='y',bottom = DC_200count+ DC_200_400count)\n",
        "p4= plt.bar(ISI_labels, DC_600_800count, 0.55, color='b',bottom = DC_200count+DC_200_400count+DC_400_600count)\n",
        "p5= plt.bar(ISI_labels, DC_800count, 0.55, color='k',bottom = DC_200count+DC_200_400count+DC_400_600count+DC_600_800count)\n",
        "\n",
        "plt.title( 'DC vs ISI')\n",
        "plt.xlabel('Drought Code (DC) ')\n",
        "plt.ylabel('Initial Spread Index (ISI)')\n",
        "\n"
      ],
      "execution_count": 83,
      "outputs": [
        {
          "output_type": "execute_result",
          "data": {
            "text/plain": [
              "Text(0, 0.5, 'Initial Spread Index (ISI)')"
            ]
          },
          "metadata": {
            "tags": []
          },
          "execution_count": 83
        },
        {
          "output_type": "display_data",
          "data": {
            "image/png": "[encoded data removed]",
            "text/plain": [
              "<Figure size 720x504 with 1 Axes>"
            ]
          },
          "metadata": {
            "tags": []
          }
        }
      ]
    },
    {
      "cell_type": "code",
      "metadata": {
        "id": "9cxyO393UuRL",
        "colab_type": "code",
        "outputId": "b6652258-d442-4cdb-968d-97c5928325a4",
        "colab": {
          "base_uri": "https://localhost:8080/",
          "height": 70
        }
      },
      "source": [
        "#Grabbing row sums, column sums, total  \n",
        "row_sum= DC_ISI_crosstab.iloc[0:5,5 ].values\n",
        "column_sum= DC_ISI_crosstab.iloc[5,0:5 ].values\n",
        "total= DC_ISI_crosstab.loc['All','All' ]\n",
        "\n",
        "print(row_sum)\n",
        "print(column_sum)\n",
        "print (total)"
      ],
      "execution_count": 84,
      "outputs": [
        {
          "output_type": "stream",
          "text": [
            "[ 88  32  62 310  24]\n",
            "[ 69 292 112  35   8]\n",
            "516\n"
          ],
          "name": "stdout"
        }
      ]
    },
    {
      "cell_type": "code",
      "metadata": {
        "id": "pMjBW0gVQmaj",
        "colab_type": "code",
        "outputId": "4dea2502-cfed-4d2a-e745-bffe9efc33ef",
        "colab": {
          "base_uri": "https://localhost:8080/",
          "height": 158
        }
      },
      "source": [
        "#Creating an expected value table\n",
        "\n",
        "expected=[]\n",
        "for i in range(len(row_sum)):\n",
        "  expected_row=[]\n",
        "  for column in column_sum:\n",
        "    expected_val=column*row_sum[i]/total\n",
        "    expected_row.append(expected_val)\n",
        "  expected.append(expected_row)\n",
        "\n",
        "expected=np.array(expected)\n",
        "\n",
        "print(expected.shape)\n",
        "print('  ')\n",
        "print('Expected Values')\n",
        "print(expected)\n",
        "  \n",
        "\n"
      ],
      "execution_count": 85,
      "outputs": [
        {
          "output_type": "stream",
          "text": [
            "(5, 5)\n",
            "  \n",
            "Expected Values\n",
            "[[ 11.76744186  49.79844961  19.10077519   5.96899225   1.36434109]\n",
            " [  4.27906977  18.10852713   6.94573643   2.17054264   0.49612403]\n",
            " [  8.29069767  35.08527132  13.45736434   4.20542636   0.96124031]\n",
            " [ 41.45348837 175.42635659  67.28682171  21.02713178   4.80620155]\n",
            " [  3.20930233  13.58139535   5.20930233   1.62790698   0.37209302]]\n"
          ],
          "name": "stdout"
        }
      ]
    },
    {
      "cell_type": "code",
      "metadata": {
        "id": "ddkLJb4VjQG9",
        "colab_type": "code",
        "outputId": "f5eb38fd-a87f-44c7-8bf4-089538969e1f",
        "colab": {
          "base_uri": "https://localhost:8080/",
          "height": 105
        }
      },
      "source": [
        "#Converting dataframe to array values for observed data\n",
        "\n",
        "observed= DC_ISI_crosstab_no_margin.values\n",
        "observed"
      ],
      "execution_count": 86,
      "outputs": [
        {
          "output_type": "execute_result",
          "data": {
            "text/plain": [
              "array([[ 39,  41,   7,   0,   1],\n",
              "       [ 12,  14,   4,   2,   0],\n",
              "       [  0,  24,  29,   4,   5],\n",
              "       [ 17, 193,  69,  29,   2],\n",
              "       [  1,  20,   3,   0,   0]])"
            ]
          },
          "metadata": {
            "tags": []
          },
          "execution_count": 86
        }
      ]
    },
    {
      "cell_type": "code",
      "metadata": {
        "id": "2uqIFPCDQmRn",
        "colab_type": "code",
        "outputId": "9a136e2a-3c4c-46f1-e945-f7b52d3ea549",
        "colab": {
          "base_uri": "https://localhost:8080/",
          "height": 34
        }
      },
      "source": [
        "# Using numpy array broadcasting to calculate Chi- squared statistic\n",
        "chi_squared_stat= ((observed - expected)**2/(expected)).sum()\n",
        "chi_squared_stat"
      ],
      "execution_count": 87,
      "outputs": [
        {
          "output_type": "execute_result",
          "data": {
            "text/plain": [
              "170.0371321400522"
            ]
          },
          "metadata": {
            "tags": []
          },
          "execution_count": 87
        }
      ]
    },
    {
      "cell_type": "code",
      "metadata": {
        "id": "n7Yfb72JQmJO",
        "colab_type": "code",
        "outputId": "f69013bc-03dd-4ed7-d63a-7f6bf40610ec",
        "colab": {
          "base_uri": "https://localhost:8080/",
          "height": 34
        }
      },
      "source": [
        "#Degrees of Freedom\n",
        "dof= (len(row_sum)-1)*(len(column_sum)-1)\n",
        "dof"
      ],
      "execution_count": 88,
      "outputs": [
        {
          "output_type": "execute_result",
          "data": {
            "text/plain": [
              "16"
            ]
          },
          "metadata": {
            "tags": []
          },
          "execution_count": 88
        }
      ]
    },
    {
      "cell_type": "markdown",
      "metadata": {
        "id": "LJ65Sdx6lRKp",
        "colab_type": "text"
      },
      "source": [
        "B. Running Chi Squared Test with Scipy"
      ]
    },
    {
      "cell_type": "code",
      "metadata": {
        "id": "Cx5c3ZyrlQi9",
        "colab_type": "code",
        "outputId": "2c961eca-669a-40cf-86f7-9c6d01ed3f1d",
        "colab": {
          "base_uri": "https://localhost:8080/",
          "height": 247
        }
      },
      "source": [
        "#Running a chi squared test\n",
        "\n",
        "chi2_contingency(observed)"
      ],
      "execution_count": 89,
      "outputs": [
        {
          "output_type": "execute_result",
          "data": {
            "text/plain": [
              "(170.0371321400522,\n",
              " 8.277549776855048e-28,\n",
              " 16,\n",
              " array([[ 11.76744186,  49.79844961,  19.10077519,   5.96899225,\n",
              "           1.36434109],\n",
              "        [  4.27906977,  18.10852713,   6.94573643,   2.17054264,\n",
              "           0.49612403],\n",
              "        [  8.29069767,  35.08527132,  13.45736434,   4.20542636,\n",
              "           0.96124031],\n",
              "        [ 41.45348837, 175.42635659,  67.28682171,  21.02713178,\n",
              "           4.80620155],\n",
              "        [  3.20930233,  13.58139535,   5.20930233,   1.62790698,\n",
              "           0.37209302]]))"
            ]
          },
          "metadata": {
            "tags": []
          },
          "execution_count": 89
        }
      ]
    },
    {
      "cell_type": "code",
      "metadata": {
        "id": "OQ2aZyNtQe1w",
        "colab_type": "code",
        "colab": {}
      },
      "source": [
        ""
      ],
      "execution_count": 0,
      "outputs": []
    },
    {
      "cell_type": "markdown",
      "metadata": {
        "id": "4ohsJhQUmEuS",
        "colab_type": "text"
      },
      "source": [
        "## Stretch goals:\n",
        "\n",
        "1. Write a summary of your findings, mixing prose and math/code/results. *Note* - yes, this is by definition a political topic. It is challenging but important to keep your writing voice *neutral* and stick to the facts of the data. Data science often involves considering controversial issues, so it's important to be sensitive about them (especially if you want to publish).\n",
        "2. Apply the techniques you learned today to your project data or other data of your choice, and write/discuss your findings here.\n",
        "3. Refactor your code so it is elegant, readable, and can be easily run for all issues."
      ]
    },
    {
      "cell_type": "markdown",
      "metadata": {
        "id": "PzKhZWitg9LF",
        "colab_type": "text"
      },
      "source": [
        "3. Generate and numerically represent a confidence interval on All attributes for Republican votes"
      ]
    },
    {
      "cell_type": "code",
      "metadata": {
        "id": "C53JbPs9-v8z",
        "colab_type": "code",
        "colab": {}
      },
      "source": [
        "#Creating a list of columns excluding `party`\n",
        "\n",
        "new_df=list(df_vot.columns.drop('party'))\n"
      ],
      "execution_count": 0,
      "outputs": []
    },
    {
      "cell_type": "code",
      "metadata": {
        "id": "COZGt8sg-48O",
        "colab_type": "code",
        "outputId": "d0bec9b3-1fde-42e3-edbd-1980f192ae12",
        "colab": {
          "base_uri": "https://localhost:8080/",
          "height": 301
        }
      },
      "source": [
        "# Creating a for loop that goes through all the columns to calculate CI\n",
        "\n",
        "for col in new_df:\n",
        "  def confidence_interval(data, confidence =0.95):\n",
        "    data_array= np.array(data)                          \n",
        "    mean= np.mean(data)                                 \n",
        "    n=len(data)                                          \n",
        "    stderr= np.std(data_array,ddof=1)/np.sqrt(n)        \n",
        "    moe=stderr*st.t.ppf(((1+confidence)/2),n-1)          \n",
        "    return('lower bound', mean -moe,'mean', mean, 'upper bound', mean + moe)                \n",
        "  print('Confidence Interval for:', col, confidence_interval(rep[col]))"
      ],
      "execution_count": 93,
      "outputs": [
        {
          "output_type": "stream",
          "text": [
            "Confidence Interval for: handicapped-infants ('lower bound', 0.13450349074958223, 'mean', 0.21296296296296297, 'upper bound', 0.2914224351763437)\n",
            "Confidence Interval for: water-project-cost-sharing ('lower bound', 0.3765480931771919, 'mean', 0.4722222222222222, 'upper bound', 0.5678963512672525)\n",
            "Confidence Interval for: adoption-of-the-budget-resolution ('lower bound', 0.08761355698812177, 'mean', 0.1574074074074074, 'upper bound', 0.22720125782669304)\n",
            "Confidence Interval for: physician-fee-freeze ('lower bound', 0.9723853391655276, 'mean', 0.9907407407407407, 'upper bound', 1.009096142315954)\n",
            "Confidence Interval for: el-salvador-aid ('lower bound', 0.913434261310743, 'mean', 0.9537037037037037, 'upper bound', 0.9939731460966644)\n",
            "Confidence Interval for: religious-groups-in-schools ('lower bound', 0.8059979340740583, 'mean', 0.8703703703703703, 'upper bound', 0.9347428066666824)\n",
            "Confidence Interval for: anti-satellite-test-ban ('lower bound', 0.18358393802160433, 'mean', 0.26851851851851855, 'upper bound', 0.35345309901543276)\n",
            "Confidence Interval for: aid-to-nicaraguan-contras ('lower bound', 0.08006715123831286, 'mean', 0.14814814814814814, 'upper bound', 0.2162291450579834)\n",
            "Confidence Interval for: mx-missile ('lower bound', 0.07261245914426012, 'mean', 0.1388888888888889, 'upper bound', 0.20516531863351767)\n",
            "Confidence Interval for: immigration ('lower bound', 0.4793093369789436, 'mean', 0.5740740740740741, 'upper bound', 0.6688388111692045)\n",
            "Confidence Interval for: synfuels-corporation-cutback ('lower bound', 0.08761355698812177, 'mean', 0.1574074074074074, 'upper bound', 0.22720125782669304)\n",
            "Confidence Interval for: education-spending ('lower bound', 0.7837708549420166, 'mean', 0.8518518518518519, 'upper bound', 0.9199328487616871)\n",
            "Confidence Interval for: superfund-right-to-sue ('lower bound', 0.7727987421733069, 'mean', 0.8425925925925926, 'upper bound', 0.9123864430118782)\n",
            "Confidence Interval for: crime ('lower bound', 0.955644609582101, 'mean', 0.9814814814814815, 'upper bound', 1.007318353380862)\n",
            "Confidence Interval for: duty-free-exports ('lower bound', 0.050883138942941386, 'mean', 0.1111111111111111, 'upper bound', 0.17133908327928082)\n",
            "Confidence Interval for: export-administration-act-south-africa ('lower bound', 0.5763247084144121, 'mean', 0.6666666666666666, 'upper bound', 0.7570086249189212)\n"
          ],
          "name": "stdout"
        }
      ]
    },
    {
      "cell_type": "code",
      "metadata": {
        "id": "CSelw5uKm37p",
        "colab_type": "code",
        "colab": {
          "base_uri": "https://localhost:8080/",
          "height": 1000
        },
        "outputId": "472e3c91-c508-4dd8-f5cd-24b3ffdb0b2b"
      },
      "source": [
        "for col in new_df:\n",
        "  def plot_confidence_interval(data, confidence= 0.95):\n",
        "    plt.figure(figsize=(20,15))\n",
        "    plt.subplot(8,2,1)\n",
        "    sns.kdeplot(rep[col], shade=True, color='g')\n",
        "    plt.axvline(x=confidence_interval(rep[col])[1], color='b')\n",
        "    plt.axvline(x=confidence_interval(rep[col])[3], color='r')\n",
        "    plt.axvline(x=confidence_interval(rep[col])[5], color='b')\n",
        "    plt.title('')\n",
        "    plt.show()\n",
        "\n",
        "  plot_confidence_interval((rep[col]), confidence=0.95)"
      ],
      "execution_count": 108,
      "outputs": [
        {
          "output_type": "display_data",
          "data": {
            "image/png": "[encoded data removed]",
            "text/plain": [
              "<Figure size 1440x1080 with 1 Axes>"
            ]
          },
          "metadata": {
            "tags": []
          }
        },
        {
          "output_type": "display_data",
          "data": {
            "image/png": "[encoded data removed]",
            "text/plain": [
              "<Figure size 1440x1080 with 1 Axes>"
            ]
          },
          "metadata": {
            "tags": []
          }
        },
        {
          "output_type": "display_data",
          "data": {
            "image/png": "[encoded data removed]",
            "text/plain": [
              "<Figure size 1440x1080 with 1 Axes>"
            ]
          },
          "metadata": {
            "tags": []
          }
        },
        {
          "output_type": "display_data",
          "data": {
            "image/png": "[encoded data removed]",
            "text/plain": [
              "<Figure size 1440x1080 with 1 Axes>"
            ]
          },
          "metadata": {
            "tags": []
          }
        },
        {
          "output_type": "display_data",
          "data": {
            "image/png": "[encoded data removed]",
            "text/plain": [
              "<Figure size 1440x1080 with 1 Axes>"
            ]
          },
          "metadata": {
            "tags": []
          }
        },
        {
          "output_type": "display_data",
          "data": {
            "image/png": "[encoded data removed]",
            "text/plain": [
              "<Figure size 1440x1080 with 1 Axes>"
            ]
          },
          "metadata": {
            "tags": []
          }
        },
        {
          "output_type": "display_data",
          "data": {
            "image/png": "[encoded data removed]",
            "text/plain": [
              "<Figure size 1440x1080 with 1 Axes>"
            ]
          },
          "metadata": {
            "tags": []
          }
        },
        {
          "output_type": "display_data",
          "data": {
            "image/png": "[encoded data removed]",
            "text/plain": [
              "<Figure size 1440x1080 with 1 Axes>"
            ]
          },
          "metadata": {
            "tags": []
          }
        },
        {
          "output_type": "display_data",
          "data": {
            "image/png": "[encoded data removed]",
            "text/plain": [
              "<Figure size 1440x1080 with 1 Axes>"
            ]
          },
          "metadata": {
            "tags": []
          }
        },
        {
          "output_type": "display_data",
          "data": {
            "image/png": "[encoded data removed]",
            "text/plain": [
              "<Figure size 1440x1080 with 1 Axes>"
            ]
          },
          "metadata": {
            "tags": []
          }
        },
        {
          "output_type": "display_data",
          "data": {
            "image/png": "[encoded data removed]",
            "text/plain": [
              "<Figure size 1440x1080 with 1 Axes>"
            ]
          },
          "metadata": {
            "tags": []
          }
        },
        {
          "output_type": "display_data",
          "data": {
            "image/png": "[encoded data removed]",
            "text/plain": [
              "<Figure size 1440x1080 with 1 Axes>"
            ]
          },
          "metadata": {
            "tags": []
          }
        },
        {
          "output_type": "display_data",
          "data": {
            "image/png": "[encoded data removed]",
            "text/plain": [
              "<Figure size 1440x1080 with 1 Axes>"
            ]
          },
          "metadata": {
            "tags": []
          }
        },
        {
          "output_type": "display_data",
          "data": {
            "image/png": "[encoded data removed]",
            "text/plain": [
              "<Figure size 1440x1080 with 1 Axes>"
            ]
          },
          "metadata": {
            "tags": []
          }
        },
        {
          "output_type": "display_data",
          "data": {
            "image/png": "[encoded data removed]",
            "text/plain": [
              "<Figure size 1440x1080 with 1 Axes>"
            ]
          },
          "metadata": {
            "tags": []
          }
        },
        {
          "output_type": "display_data",
          "data": {
            "image/png": "[encoded data removed]",
            "text/plain": [
              "<Figure size 1440x1080 with 1 Axes>"
            ]
          },
          "metadata": {
            "tags": []
          }
        }
      ]
    },
    {
      "cell_type": "markdown",
      "metadata": {
        "id": "nyJ3ySr7R2k9",
        "colab_type": "text"
      },
      "source": [
        "## Resources\n",
        "\n",
        "- [Interactive visualize the Chi-Squared test](https://homepage.divms.uiowa.edu/~mbognar/applets/chisq.html)\n",
        "- [Calculation of Chi-Squared test statistic](https://en.wikipedia.org/wiki/Pearson%27s_chi-squared_test)\n",
        "- [Visualization of a confidence interval generated by R code](https://commons.wikimedia.org/wiki/File:Confidence-interval.svg)\n",
        "- [Expected value of a squared standard normal](https://math.stackexchange.com/questions/264061/expected-value-calculation-for-squared-normal-distribution) (it's 1 - which is why the expected value of a Chi-Squared with $n$ degrees of freedom is $n$, as it's the sum of $n$ squared standard normals)"
      ]
    }
  ]
}